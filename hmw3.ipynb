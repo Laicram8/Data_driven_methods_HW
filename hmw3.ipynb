{
 "cells": [
  {
   "cell_type": "code",
   "execution_count": 100,
   "metadata": {},
   "outputs": [],
   "source": [
    "import numpy as np\n",
    "import matplotlib.pyplot as plt\n",
    "import scipy.io\n",
    "import pysindy as sindy\n",
    "\n",
    "data = scipy.io.loadmat('DataHw3Q1.mat')\n",
    "\n",
    "data.keys()\n",
    "\n",
    "t = data['t'].T\n",
    "x1 =data['x'][:,0]\n",
    "x2 = data['x'][:,1]\n",
    "\n",
    "nt = x1.shape[0]\n",
    "split = int(0.8*nt)\n",
    "\n",
    "\n",
    "\n",
    "\n",
    "if __name__ != \"testing\":\n",
    "  t  = t.reshape(-1)[:split]\n",
    "  x1 = x1[:split]\n",
    "  x2 = x2[:split]\n",
    "else:\n",
    "  t  = t[split:]\n",
    "  x1 = x1[split:]\n",
    "  x2 = x2[split:]"
   ]
  },
  {
   "cell_type": "code",
   "execution_count": 101,
   "metadata": {},
   "outputs": [],
   "source": [
    "#data matrix\n",
    "data = np.vstack([x1, x2]).T"
   ]
  },
  {
   "cell_type": "code",
   "execution_count": 102,
   "metadata": {},
   "outputs": [],
   "source": [
    "#define the library of potential functions\n",
    "\n",
    "differentiation_method = sindy.FiniteDifference(order=2)\n",
    "\n",
    "feature_library = sindy.PolynomialLibrary(degree=3)\n",
    "\n",
    "feature_names = [\"x\", \"y\"]\n",
    "\n",
    "optimizer = sindy.STLSQ(threshold = 0.1)\n",
    "\n",
    "model = sindy.SINDy(\n",
    "    differentiation_method=differentiation_method,\n",
    "    feature_library= feature_library,\n",
    "    optimizer= optimizer,\n",
    "    feature_names = feature_names\n",
    ")"
   ]
  },
  {
   "cell_type": "code",
   "execution_count": 103,
   "metadata": {},
   "outputs": [
    {
     "name": "stdout",
     "output_type": "stream",
     "text": [
      "The required system of equations:\n",
      "(x)' = 0.499 1 + 0.998 x + -0.998 y + -0.333 x^3\n",
      "(y)' = 0.200 x + -0.160 y\n"
     ]
    }
   ],
   "source": [
    "model.fit(data, t=t)\n",
    "print(\"The required system of equations:\")\n",
    "model.print()\n"
   ]
  },
  {
   "cell_type": "markdown",
   "metadata": {},
   "source": [
    "Question 2: Encoder vs DMD"
   ]
  },
  {
   "cell_type": "code",
   "execution_count": 104,
   "metadata": {},
   "outputs": [],
   "source": [
    "import tensorflow as tf\n",
    "from tensorflow import keras\n",
    "import keras.backend as K\n",
    "from keras import layers\n",
    "import matplotlib.pyplot as plt\n",
    "import os\n",
    "import numpy as np\n",
    "\n",
    "K.clear_session()"
   ]
  },
  {
   "cell_type": "markdown",
   "metadata": {},
   "source": [
    "Variational AutoEncoder for Compressed Sensing"
   ]
  },
  {
   "cell_type": "code",
   "execution_count": 105,
   "metadata": {},
   "outputs": [],
   "source": [
    "H = 32 #Height\n",
    "W = 32 #Width\n",
    "C = 1  #Channels\n",
    "L = 2 #Latent dimensionality"
   ]
  },
  {
   "cell_type": "code",
   "execution_count": 106,
   "metadata": {},
   "outputs": [],
   "source": [
    "# The way to complie z_mean and z_log_var\n",
    "def sampling(args):\n",
    "    z_mean, z_log_var = args\n",
    "    batch = K.shape(z_mean)[0]\n",
    "    dim = K.int_shape(z_mean)[1]\n",
    "    epsilon = K.random_normal(shape=(batch, dim))  # standarnd normal distribution as default, with mean=0 and std=1.0\n",
    "    return z_mean + K.exp(0.5 * z_log_var) * epsilon"
   ]
  },
  {
   "cell_type": "code",
   "execution_count": 107,
   "metadata": {},
   "outputs": [],
   "source": [
    "## Try larger strides and kernel and more CNN layer to make sure when it is flatten the parameter wont be too much !\n",
    "def Encoder_VAE():\n",
    "    encoder_inputs = keras.Input(name=\"Encoder_inputs\",shape = (H,W,C))\n",
    "\n",
    "    x = layers.Conv2D(32,(3,3),strides=(2,2),padding =\"same\",name= \"conv1\")(encoder_inputs)\n",
    "\n",
    "\n",
    "    x = layers.Conv2D(64,(3,3),strides=(2,2),padding =\"same\",name= \"conv2\")(x)\n",
    "\n",
    "\n",
    "    #x = layers.Conv2D(64,(3,3),strides=(2,2),padding =\"same\",name= \"conv3\")(x)\n",
    "\n",
    "\n",
    "\n",
    "    x = layers.Flatten()(x)\n",
    "    x = layers.Dense(16,activation = \"relu\")(x) #apply relu activation function\n",
    "    z_mean = layers.Dense(L,name= \"z_mean\")(x)\n",
    "    z_log_var = layers.Dense(L,name=\"z_log_var\")(x)\n",
    "\n",
    "    z = layers.Lambda(sampling, output_shape=(L,), name='z')([z_mean, z_log_var])\n",
    "\n",
    "    return keras.Model(inputs =encoder_inputs,outputs=[z_mean,z_log_var],name=\"encoder\")"
   ]
  },
  {
   "cell_type": "code",
   "execution_count": 108,
   "metadata": {},
   "outputs": [
    {
     "name": "stdout",
     "output_type": "stream",
     "text": [
      "Model: \"encoder\"\n",
      "__________________________________________________________________________________________________\n",
      " Layer (type)                Output Shape                 Param #   Connected to                  \n",
      "==================================================================================================\n",
      " Encoder_inputs (InputLayer  [(None, 32, 32, 1)]          0         []                            \n",
      " )                                                                                                \n",
      "                                                                                                  \n",
      " conv1 (Conv2D)              (None, 16, 16, 32)           320       ['Encoder_inputs[0][0]']      \n",
      "                                                                                                  \n",
      " conv2 (Conv2D)              (None, 8, 8, 64)             18496     ['conv1[0][0]']               \n",
      "                                                                                                  \n",
      " flatten (Flatten)           (None, 4096)                 0         ['conv2[0][0]']               \n",
      "                                                                                                  \n",
      " dense (Dense)               (None, 16)                   65552     ['flatten[0][0]']             \n",
      "                                                                                                  \n",
      " z_mean (Dense)              (None, 2)                    34        ['dense[0][0]']               \n",
      "                                                                                                  \n",
      " z_log_var (Dense)           (None, 2)                    34        ['dense[0][0]']               \n",
      "                                                                                                  \n",
      "==================================================================================================\n",
      "Total params: 84436 (329.83 KB)\n",
      "Trainable params: 84436 (329.83 KB)\n",
      "Non-trainable params: 0 (0.00 Byte)\n",
      "__________________________________________________________________________________________________\n"
     ]
    }
   ],
   "source": [
    "Encoder = Encoder_VAE()\n",
    "Encoder.summary()"
   ]
  },
  {
   "cell_type": "code",
   "execution_count": 109,
   "metadata": {},
   "outputs": [],
   "source": [
    "class Sampler(layers.Layer):\n",
    " def call(self,z_mean,z_log_var):\n",
    "    batch_size = tf.shape(z_mean)[0]\n",
    "    z_size = tf.shape(z_mean)[1]\n",
    "    epsilon = tf.random.normal(shape=(batch_size,z_size))\n",
    "\n",
    "    return z_mean + tf.exp(0.5*z_log_var)*epsilon"
   ]
  },
  {
   "cell_type": "markdown",
   "metadata": {},
   "source": [
    "Decoder: Mapping the the latent space, of dimension 2, into images in this case, flow modes"
   ]
  },
  {
   "cell_type": "code",
   "execution_count": 110,
   "metadata": {},
   "outputs": [],
   "source": [
    "def Decoder_VAE():\n",
    "  latent_inputs= layers.Input(shape=(L,),name=\"latent_input\")\n",
    "\n",
    "  x= layers.Dense(8*8*64,activation=\"relu\",name=\"decoder_dense1\")(latent_inputs)\n",
    "\n",
    "  x = layers.Reshape((8,8,64))(x)\n",
    "\n",
    "  x = layers.Conv2DTranspose(64,(3,3),strides=(2,2),padding=\"same\",activation=\"relu\",name=\"decoder_1\")(x)\n",
    "  x = layers.Conv2DTranspose(32,(3,3),strides=(2,2),padding=\"same\",activation=\"relu\",name=\"decoder_2\")(x)\n",
    "\n",
    "  #x = layers.Conv2DTranspose(32,(5,5),strides=(2,2),padding=\"same\",activation=\"relu\",name=\"decoder_3\")(x)\n",
    "\n",
    "\n",
    "\n",
    "  decoder_outputs = layers.Conv2D(C,(3,3),padding=\"same\")(x)\n",
    "  return keras.Model(latent_inputs,decoder_outputs,name=\"decoder\")"
   ]
  },
  {
   "cell_type": "code",
   "execution_count": 111,
   "metadata": {},
   "outputs": [
    {
     "name": "stdout",
     "output_type": "stream",
     "text": [
      "Model: \"decoder\"\n",
      "_________________________________________________________________\n",
      " Layer (type)                Output Shape              Param #   \n",
      "=================================================================\n",
      " latent_input (InputLayer)   [(None, 2)]               0         \n",
      "                                                                 \n",
      " decoder_dense1 (Dense)      (None, 4096)              12288     \n",
      "                                                                 \n",
      " reshape (Reshape)           (None, 8, 8, 64)          0         \n",
      "                                                                 \n",
      " decoder_1 (Conv2DTranspose  (None, 16, 16, 64)        36928     \n",
      " )                                                               \n",
      "                                                                 \n",
      " decoder_2 (Conv2DTranspose  (None, 32, 32, 32)        18464     \n",
      " )                                                               \n",
      "                                                                 \n",
      " conv2d (Conv2D)             (None, 32, 32, 1)         289       \n",
      "                                                                 \n",
      "=================================================================\n",
      "Total params: 67969 (265.50 KB)\n",
      "Trainable params: 67969 (265.50 KB)\n",
      "Non-trainable params: 0 (0.00 Byte)\n",
      "_________________________________________________________________\n"
     ]
    }
   ],
   "source": [
    "Decoder = Decoder_VAE()\n",
    "Decoder.summary()"
   ]
  },
  {
   "cell_type": "code",
   "execution_count": 112,
   "metadata": {},
   "outputs": [],
   "source": [
    "class VAE(keras.Model):\n",
    "  def __init__(self,encoder,decoder,**kwargs):\n",
    "    super().__init__(**kwargs)\n",
    "    self.encoder = Encoder\n",
    "    self.decoder = Decoder\n",
    "    self.sampler = Sampler()\n",
    "    self.total_loss_tracker = keras.metrics.Mean(name=\"total_ oss\")\n",
    "    self.reconstruction_loss_tracker = keras.metrics.Mean(name=\"reconstruction loss\")\n",
    "    self.kl_loss_tracker = keras.metrics.Mean(name=\"kl loss\")\n",
    "\n",
    "  @property\n",
    "  def metrics(self):\n",
    "    return [\n",
    "        self.reconstruction_loss_tracker,\n",
    "        self.kl_loss_tracker\n",
    "        ]\n",
    "\n",
    "  def train_step(self,data):\n",
    "    # Gradient Descent Back Propagation\n",
    "    with tf.GradientTape() as tape:\n",
    "      z_mean,z_log_var = self.encoder(data)\n",
    "      z = self.sampler(z_mean,z_log_var)\n",
    "      reconstruction = Decoder(z)\n",
    "\n",
    "      reconstruction_loss = tf.reduce_mean(\n",
    "                          tf.reduce_sum(\n",
    "                              keras.losses.mae(data, reconstruction),\n",
    "                              axis = (1,2))\n",
    "                          )\n",
    "\n",
    "      kl_loss = -0.5 * (1 + z_log_var -tf.square(z_mean) - tf.exp(z_log_var) )\n",
    "\n",
    "      total_loss = reconstruction_loss + tf.reduce_mean(kl_loss)\n",
    "    grads = tape.gradient(total_loss,self.trainable_weights)\n",
    "\n",
    "    # Update gradients descent for optimize the parameters\n",
    "    self.optimizer.apply_gradients( zip(grads,self.trainable_weights) )\n",
    "\n",
    "    self.total_loss_tracker.update_state(total_loss)\n",
    "    self.reconstruction_loss_tracker.update_state(reconstruction_loss)\n",
    "    self.kl_loss_tracker.update_state(kl_loss)\n",
    "\n",
    "\n",
    "    return {\n",
    "        \"total_loss\":self.total_loss_tracker.result(),\n",
    "        \"reconstruction_loss\": self.reconstruction_loss_tracker.result(),\n",
    "        \"kl_loss\": self.kl_loss_tracker.result()\n",
    "    }"
   ]
  },
  {
   "cell_type": "code",
   "execution_count": 114,
   "metadata": {},
   "outputs": [],
   "source": [
    "def Data(N):\n",
    "    y = np.linspace(-2,2,H) # spatial coordinate\n",
    "    Ny = np.size(y)\n",
    "\n",
    "    amp1 = 1\n",
    "    y01 = 0.5\n",
    "    sigmay1 = 0.6\n",
    "\n",
    "    amp2 = 1.2\n",
    "    y02 = -0.5\n",
    "    sigmay2 = 0.3\n",
    "\n",
    "    dt = 0.1\n",
    "    Nt = 32\n",
    "    tend = dt*(Nt-1)\n",
    "    t = np.linspace(0,tend,Nt) # time\n",
    "    X_all = np.zeros(shape=(N,Ny,Nt))\n",
    "\n",
    "    for i in range(N):\n",
    "\n",
    "        omega1 = np.random.randint(1,2,size=1)+np.random.rand(1)\n",
    "\n",
    "        omega2 = np.random.randint(4,5,size=1)+np.random.rand(1)\n",
    "\n",
    "        v1 = amp1*np.exp(-((y-y01)**2)/(2*sigmay1**2))\n",
    "        v2 = amp2*np.exp(-((y-y02)**2)/(2*sigmay2**2))\n",
    "\n",
    "        X = np.zeros([Ny,Nt],dtype=complex)\n",
    "        for tt in range(Nt):\n",
    "            X[:,tt] = v1*np.exp(1j*omega1*t[tt])+v2*np.exp(1j*omega2*t[tt]) \n",
    "                \n",
    "        X = (X-X.min())/(X.max()-X.min())\n",
    "        X_all[i,:,:] = X\n",
    "    \n",
    "    X_all = np.expand_dims(X_all,axis=-1)\n",
    "\n",
    "    return X_all\n",
    "\n",
    "############################################################################################\n",
    "# -------------------- 2D CONTOURS\n",
    "############################################################################################"
   ]
  },
  {
   "cell_type": "code",
   "execution_count": 115,
   "metadata": {},
   "outputs": [
    {
     "name": "stderr",
     "output_type": "stream",
     "text": [
      "/tmp/ipykernel_519838/937327612.py:33: ComplexWarning: Casting complex values to real discards the imaginary part\n",
      "  X_all[i,:,:] = X\n"
     ]
    },
    {
     "name": "stdout",
     "output_type": "stream",
     "text": [
      "Shape of Dataset is (10000, 32, 32, 1)\n"
     ]
    },
    {
     "data": {
      "text/plain": [
       "<matplotlib.colorbar.Colorbar at 0x7f493dcd7100>"
      ]
     },
     "execution_count": 115,
     "metadata": {},
     "output_type": "execute_result"
    },
    {
     "data": {
      "image/png": "[encoded data removed]",
      "text/plain": [
       "<Figure size 640x480 with 2 Axes>"
      ]
     },
     "metadata": {},
     "output_type": "display_data"
    }
   ],
   "source": [
    "data = Data(10000)\n",
    "print(f\"Shape of Dataset is {data.shape}\")\n",
    "\n",
    "imh = plt.imshow(data[0,:,:,0],cmap=\"jet\")\n",
    "plt.colorbar(imh)"
   ]
  },
  {
   "cell_type": "markdown",
   "metadata": {},
   "source": [
    "TRAIN VAE"
   ]
  },
  {
   "cell_type": "code",
   "execution_count": 116,
   "metadata": {},
   "outputs": [],
   "source": [
    "K.clear_session()\n",
    "\n",
    "encoder = Encoder_VAE()\n",
    "decoder = Decoder_VAE()\n",
    "\n",
    "vae = VAE(encoder,decoder)\n",
    "\n",
    "vae.compile(optimizer=keras.optimizers.Adam(0.001))"
   ]
  },
  {
   "cell_type": "code",
   "execution_count": 117,
   "metadata": {},
   "outputs": [],
   "source": [
    "def scheduler(epoch, lr):\n",
    "  if lr > 1e-4:\n",
    "    return lr * 0.0001**(epoch/5000)\n",
    "  else:\n",
    "    return lr\n",
    "\n",
    "callbacks = [keras.callbacks.LearningRateScheduler(scheduler)]"
   ]
  },
  {
   "cell_type": "code",
   "execution_count": 118,
   "metadata": {},
   "outputs": [
    {
     "name": "stdout",
     "output_type": "stream",
     "text": [
      "Epoch 1/100\n",
      "157/157 [==============================] - 12s 65ms/step - total_loss: 167.0984 - reconstruction_loss: 162.5018 - kl_loss: 4.5966\n",
      "Epoch 2/100\n",
      "157/157 [==============================] - 10s 63ms/step - total_loss: 71.3656 - reconstruction_loss: 31.1909 - kl_loss: 2.5901\n",
      "Epoch 3/100\n",
      "157/157 [==============================] - 10s 63ms/step - total_loss: 50.0901 - reconstruction_loss: 12.8385 - kl_loss: 3.0584\n",
      "Epoch 4/100\n",
      "157/157 [==============================] - 9s 56ms/step - total_loss: 39.8457 - reconstruction_loss: 10.7013 - kl_loss: 3.1166\n",
      "Epoch 5/100\n",
      "157/157 [==============================] - 9s 56ms/step - total_loss: 33.3730 - reconstruction_loss: 6.9976 - kl_loss: 3.2923\n",
      "Epoch 6/100\n",
      "157/157 [==============================] - 9s 55ms/step - total_loss: 29.2199 - reconstruction_loss: 7.0226 - kl_loss: 3.3004\n",
      "Epoch 7/100\n",
      "157/157 [==============================] - 9s 56ms/step - total_loss: 26.5415 - reconstruction_loss: 9.4174 - kl_loss: 3.2007\n",
      "Epoch 8/100\n",
      "157/157 [==============================] - 9s 54ms/step - total_loss: 24.3823 - reconstruction_loss: 5.7738 - kl_loss: 3.3395\n",
      "Epoch 9/100\n",
      "157/157 [==============================] - 9s 55ms/step - total_loss: 22.5982 - reconstruction_loss: 5.9960 - kl_loss: 3.3045\n",
      "Epoch 10/100\n",
      "157/157 [==============================] - 8s 53ms/step - total_loss: 21.2357 - reconstruction_loss: 5.4146 - kl_loss: 3.3511\n",
      "Epoch 11/100\n",
      "157/157 [==============================] - 8s 51ms/step - total_loss: 20.1054 - reconstruction_loss: 6.9560 - kl_loss: 3.2554\n",
      "Epoch 12/100\n",
      "157/157 [==============================] - 9s 58ms/step - total_loss: 19.1417 - reconstruction_loss: 5.8409 - kl_loss: 3.3123\n",
      "Epoch 13/100\n",
      "157/157 [==============================] - 9s 55ms/step - total_loss: 18.3282 - reconstruction_loss: 5.6295 - kl_loss: 3.3006\n",
      "Epoch 14/100\n",
      "157/157 [==============================] - 9s 55ms/step - total_loss: 17.6261 - reconstruction_loss: 5.3456 - kl_loss: 3.3267\n",
      "Epoch 15/100\n",
      "157/157 [==============================] - 9s 57ms/step - total_loss: 17.0709 - reconstruction_loss: 5.3414 - kl_loss: 3.2832\n",
      "Epoch 16/100\n",
      "157/157 [==============================] - 9s 56ms/step - total_loss: 16.5376 - reconstruction_loss: 5.7849 - kl_loss: 3.2686\n",
      "Epoch 17/100\n",
      "157/157 [==============================] - 8s 54ms/step - total_loss: 16.0682 - reconstruction_loss: 6.0380 - kl_loss: 3.2492\n",
      "Epoch 18/100\n",
      "157/157 [==============================] - 9s 55ms/step - total_loss: 15.6265 - reconstruction_loss: 5.1232 - kl_loss: 3.2606\n",
      "Epoch 19/100\n",
      "157/157 [==============================] - 10s 62ms/step - total_loss: 15.2597 - reconstruction_loss: 5.8221 - kl_loss: 3.2376\n",
      "Epoch 20/100\n",
      "157/157 [==============================] - 10s 65ms/step - total_loss: 14.9276 - reconstruction_loss: 5.1321 - kl_loss: 3.2774\n",
      "Epoch 21/100\n",
      "157/157 [==============================] - 21s 132ms/step - total_loss: 14.6769 - reconstruction_loss: 7.8727 - kl_loss: 3.1308\n",
      "Epoch 22/100\n",
      "157/157 [==============================] - 21s 131ms/step - total_loss: 14.4209 - reconstruction_loss: 4.8171 - kl_loss: 3.2773\n",
      "Epoch 23/100\n",
      "157/157 [==============================] - 21s 132ms/step - total_loss: 14.1852 - reconstruction_loss: 6.5975 - kl_loss: 3.1636\n",
      "Epoch 24/100\n",
      "157/157 [==============================] - 20s 130ms/step - total_loss: 13.9395 - reconstruction_loss: 5.0437 - kl_loss: 3.2543\n",
      "Epoch 25/100\n",
      "157/157 [==============================] - 20s 130ms/step - total_loss: 13.7177 - reconstruction_loss: 5.6208 - kl_loss: 3.2112\n",
      "Epoch 26/100\n",
      "157/157 [==============================] - 21s 132ms/step - total_loss: 13.5106 - reconstruction_loss: 5.1701 - kl_loss: 3.2459\n",
      "Epoch 27/100\n",
      "157/157 [==============================] - 21s 131ms/step - total_loss: 13.3617 - reconstruction_loss: 6.5860 - kl_loss: 3.1560\n",
      "Epoch 28/100\n",
      "157/157 [==============================] - 21s 133ms/step - total_loss: 13.1825 - reconstruction_loss: 4.8920 - kl_loss: 3.2086\n",
      "Epoch 29/100\n",
      "157/157 [==============================] - 20s 130ms/step - total_loss: 13.0008 - reconstruction_loss: 4.7075 - kl_loss: 3.2788\n",
      "Epoch 30/100\n",
      "157/157 [==============================] - 21s 132ms/step - total_loss: 12.8373 - reconstruction_loss: 4.9208 - kl_loss: 3.2421\n",
      "Epoch 31/100\n",
      "157/157 [==============================] - 20s 130ms/step - total_loss: 12.6916 - reconstruction_loss: 5.1254 - kl_loss: 3.2345\n",
      "Epoch 32/100\n",
      "157/157 [==============================] - 20s 130ms/step - total_loss: 12.5472 - reconstruction_loss: 5.0892 - kl_loss: 3.1973\n",
      "Epoch 33/100\n",
      "157/157 [==============================] - 21s 133ms/step - total_loss: 12.4230 - reconstruction_loss: 5.6009 - kl_loss: 3.1969\n",
      "Epoch 34/100\n",
      "157/157 [==============================] - 21s 133ms/step - total_loss: 12.3077 - reconstruction_loss: 4.8013 - kl_loss: 3.2601\n",
      "Epoch 35/100\n",
      "157/157 [==============================] - 21s 133ms/step - total_loss: 12.1977 - reconstruction_loss: 5.4807 - kl_loss: 3.1768\n",
      "Epoch 36/100\n",
      "157/157 [==============================] - 21s 131ms/step - total_loss: 12.0795 - reconstruction_loss: 4.8247 - kl_loss: 3.2187\n",
      "Epoch 37/100\n",
      "157/157 [==============================] - 21s 133ms/step - total_loss: 12.0036 - reconstruction_loss: 6.7274 - kl_loss: 3.0948\n",
      "Epoch 38/100\n",
      "157/157 [==============================] - 21s 131ms/step - total_loss: 11.9409 - reconstruction_loss: 6.6912 - kl_loss: 3.1244\n",
      "Epoch 39/100\n",
      "157/157 [==============================] - 21s 132ms/step - total_loss: 11.8590 - reconstruction_loss: 5.0860 - kl_loss: 3.1776\n",
      "Epoch 40/100\n",
      "157/157 [==============================] - 21s 132ms/step - total_loss: 11.7563 - reconstruction_loss: 4.4568 - kl_loss: 3.2384\n",
      "Epoch 41/100\n",
      "157/157 [==============================] - 21s 131ms/step - total_loss: 11.6653 - reconstruction_loss: 4.5861 - kl_loss: 3.2175\n",
      "Epoch 42/100\n",
      "157/157 [==============================] - 21s 131ms/step - total_loss: 11.5855 - reconstruction_loss: 5.6335 - kl_loss: 3.1712\n",
      "Epoch 43/100\n",
      "157/157 [==============================] - 21s 131ms/step - total_loss: 11.5117 - reconstruction_loss: 4.3401 - kl_loss: 3.2808\n",
      "Epoch 44/100\n",
      "157/157 [==============================] - 21s 132ms/step - total_loss: 11.4242 - reconstruction_loss: 4.3615 - kl_loss: 3.2501\n",
      "Epoch 45/100\n",
      "157/157 [==============================] - 21s 131ms/step - total_loss: 11.3424 - reconstruction_loss: 4.7469 - kl_loss: 3.2289\n",
      "Epoch 46/100\n",
      "157/157 [==============================] - 21s 132ms/step - total_loss: 11.2662 - reconstruction_loss: 4.7118 - kl_loss: 3.2333\n",
      "Epoch 47/100\n",
      "157/157 [==============================] - 21s 131ms/step - total_loss: 11.2138 - reconstruction_loss: 5.9424 - kl_loss: 3.1582\n",
      "Epoch 48/100\n",
      "157/157 [==============================] - 20s 130ms/step - total_loss: 11.1534 - reconstruction_loss: 4.6401 - kl_loss: 3.2210\n",
      "Epoch 49/100\n",
      "157/157 [==============================] - 20s 130ms/step - total_loss: 11.0975 - reconstruction_loss: 5.1700 - kl_loss: 3.1776\n",
      "Epoch 50/100\n",
      "157/157 [==============================] - 21s 132ms/step - total_loss: 11.0330 - reconstruction_loss: 4.6436 - kl_loss: 3.2255\n",
      "Epoch 51/100\n",
      "157/157 [==============================] - 21s 133ms/step - total_loss: 10.9692 - reconstruction_loss: 4.7784 - kl_loss: 3.2145\n",
      "Epoch 52/100\n",
      "157/157 [==============================] - 21s 132ms/step - total_loss: 10.9142 - reconstruction_loss: 5.7441 - kl_loss: 3.1724\n",
      "Epoch 53/100\n",
      "157/157 [==============================] - 21s 133ms/step - total_loss: 10.8512 - reconstruction_loss: 4.3406 - kl_loss: 3.2632\n",
      "Epoch 54/100\n",
      "157/157 [==============================] - 21s 132ms/step - total_loss: 10.7915 - reconstruction_loss: 4.4483 - kl_loss: 3.2151\n",
      "Epoch 55/100\n",
      "157/157 [==============================] - 21s 131ms/step - total_loss: 10.7362 - reconstruction_loss: 4.5259 - kl_loss: 3.2245\n",
      "Epoch 56/100\n",
      "157/157 [==============================] - 21s 131ms/step - total_loss: 10.6889 - reconstruction_loss: 5.0234 - kl_loss: 3.1632\n",
      "Epoch 57/100\n",
      "157/157 [==============================] - 21s 132ms/step - total_loss: 10.6385 - reconstruction_loss: 4.7029 - kl_loss: 3.2133\n",
      "Epoch 58/100\n",
      "157/157 [==============================] - 21s 134ms/step - total_loss: 10.5916 - reconstruction_loss: 4.8117 - kl_loss: 3.2006\n",
      "Epoch 59/100\n",
      "157/157 [==============================] - 21s 132ms/step - total_loss: 10.5406 - reconstruction_loss: 4.3468 - kl_loss: 3.2495\n",
      "Epoch 60/100\n",
      "157/157 [==============================] - 21s 133ms/step - total_loss: 10.4975 - reconstruction_loss: 5.0022 - kl_loss: 3.2015\n",
      "Epoch 61/100\n",
      "157/157 [==============================] - 21s 132ms/step - total_loss: 10.4612 - reconstruction_loss: 4.9978 - kl_loss: 3.2085\n",
      "Epoch 62/100\n",
      "157/157 [==============================] - 21s 132ms/step - total_loss: 10.4205 - reconstruction_loss: 4.2894 - kl_loss: 3.2466\n",
      "Epoch 63/100\n",
      "157/157 [==============================] - 21s 132ms/step - total_loss: 10.3784 - reconstruction_loss: 4.6840 - kl_loss: 3.1937\n",
      "Epoch 64/100\n",
      "157/157 [==============================] - 21s 133ms/step - total_loss: 10.3433 - reconstruction_loss: 5.4997 - kl_loss: 3.1652\n",
      "Epoch 65/100\n",
      "157/157 [==============================] - 21s 132ms/step - total_loss: 10.3121 - reconstruction_loss: 5.3465 - kl_loss: 3.1644\n",
      "Epoch 66/100\n",
      "157/157 [==============================] - 21s 133ms/step - total_loss: 10.2818 - reconstruction_loss: 4.4217 - kl_loss: 3.2313\n",
      "Epoch 67/100\n",
      "157/157 [==============================] - 21s 133ms/step - total_loss: 10.2414 - reconstruction_loss: 4.1611 - kl_loss: 3.2313\n",
      "Epoch 68/100\n",
      "157/157 [==============================] - 21s 132ms/step - total_loss: 10.2002 - reconstruction_loss: 4.2696 - kl_loss: 3.2283\n",
      "Epoch 69/100\n",
      "157/157 [==============================] - 21s 132ms/step - total_loss: 10.1648 - reconstruction_loss: 4.5696 - kl_loss: 3.2278\n",
      "Epoch 70/100\n",
      "157/157 [==============================] - 21s 133ms/step - total_loss: 10.1297 - reconstruction_loss: 4.3418 - kl_loss: 3.2352\n",
      "Epoch 71/100\n",
      "157/157 [==============================] - 21s 132ms/step - total_loss: 10.1053 - reconstruction_loss: 5.4024 - kl_loss: 3.1301\n",
      "Epoch 72/100\n",
      "157/157 [==============================] - 21s 132ms/step - total_loss: 10.0694 - reconstruction_loss: 4.1468 - kl_loss: 3.2382\n",
      "Epoch 73/100\n",
      "157/157 [==============================] - 21s 132ms/step - total_loss: 10.0457 - reconstruction_loss: 5.9746 - kl_loss: 3.1216\n",
      "Epoch 74/100\n",
      "157/157 [==============================] - 21s 133ms/step - total_loss: 10.0182 - reconstruction_loss: 4.3390 - kl_loss: 3.2061\n",
      "Epoch 75/100\n",
      "157/157 [==============================] - 21s 132ms/step - total_loss: 9.9863 - reconstruction_loss: 4.5893 - kl_loss: 3.1926\n",
      "Epoch 76/100\n",
      "157/157 [==============================] - 21s 132ms/step - total_loss: 9.9610 - reconstruction_loss: 4.9436 - kl_loss: 3.2019\n",
      "Epoch 77/100\n",
      "157/157 [==============================] - 21s 133ms/step - total_loss: 9.9296 - reconstruction_loss: 3.9995 - kl_loss: 3.2483\n",
      "Epoch 78/100\n",
      "157/157 [==============================] - 21s 131ms/step - total_loss: 9.8963 - reconstruction_loss: 4.2156 - kl_loss: 3.2090\n",
      "Epoch 79/100\n",
      "157/157 [==============================] - 21s 133ms/step - total_loss: 9.8761 - reconstruction_loss: 5.6121 - kl_loss: 3.1137\n",
      "Epoch 80/100\n",
      "157/157 [==============================] - 21s 133ms/step - total_loss: 9.8520 - reconstruction_loss: 5.0350 - kl_loss: 3.1571\n",
      "Epoch 81/100\n",
      "157/157 [==============================] - 21s 131ms/step - total_loss: 9.8308 - reconstruction_loss: 5.5583 - kl_loss: 3.1297\n",
      "Epoch 82/100\n",
      "157/157 [==============================] - 20s 130ms/step - total_loss: 9.8075 - reconstruction_loss: 4.6944 - kl_loss: 3.1973\n",
      "Epoch 83/100\n",
      "157/157 [==============================] - 21s 131ms/step - total_loss: 9.7801 - reconstruction_loss: 4.0309 - kl_loss: 3.2531\n",
      "Epoch 84/100\n",
      "157/157 [==============================] - 21s 131ms/step - total_loss: 9.7510 - reconstruction_loss: 4.2443 - kl_loss: 3.2195\n",
      "Epoch 85/100\n",
      "157/157 [==============================] - 21s 134ms/step - total_loss: 9.7313 - reconstruction_loss: 5.6050 - kl_loss: 3.1334\n",
      "Epoch 86/100\n",
      "157/157 [==============================] - 21s 133ms/step - total_loss: 9.7113 - reconstruction_loss: 4.5517 - kl_loss: 3.1941\n",
      "Epoch 87/100\n",
      "157/157 [==============================] - 21s 131ms/step - total_loss: 9.6844 - reconstruction_loss: 3.8496 - kl_loss: 3.2522\n",
      "Epoch 88/100\n",
      "157/157 [==============================] - 21s 131ms/step - total_loss: 9.6555 - reconstruction_loss: 4.0399 - kl_loss: 3.2237\n",
      "Epoch 89/100\n",
      "157/157 [==============================] - 21s 132ms/step - total_loss: 9.6315 - reconstruction_loss: 4.7672 - kl_loss: 3.1889\n",
      "Epoch 90/100\n",
      "157/157 [==============================] - 21s 131ms/step - total_loss: 9.6093 - reconstruction_loss: 4.4437 - kl_loss: 3.1899\n",
      "Epoch 91/100\n",
      "157/157 [==============================] - 21s 131ms/step - total_loss: 9.5849 - reconstruction_loss: 3.8838 - kl_loss: 3.2694\n",
      "Epoch 92/100\n",
      "157/157 [==============================] - 21s 131ms/step - total_loss: 9.5593 - reconstruction_loss: 4.0240 - kl_loss: 3.2661\n",
      "Epoch 93/100\n",
      "157/157 [==============================] - 21s 133ms/step - total_loss: 9.5352 - reconstruction_loss: 4.1832 - kl_loss: 3.2329\n",
      "Epoch 94/100\n",
      "157/157 [==============================] - 20s 130ms/step - total_loss: 9.5131 - reconstruction_loss: 4.5570 - kl_loss: 3.1700\n",
      "Epoch 95/100\n",
      "157/157 [==============================] - 21s 131ms/step - total_loss: 9.4907 - reconstruction_loss: 4.1157 - kl_loss: 3.2290\n",
      "Epoch 96/100\n",
      "157/157 [==============================] - 21s 131ms/step - total_loss: 9.4741 - reconstruction_loss: 5.2724 - kl_loss: 3.1499\n",
      "Epoch 97/100\n",
      "157/157 [==============================] - 21s 133ms/step - total_loss: 9.4566 - reconstruction_loss: 5.0440 - kl_loss: 3.1385\n",
      "Epoch 98/100\n",
      "157/157 [==============================] - 21s 132ms/step - total_loss: 9.4363 - reconstruction_loss: 4.3527 - kl_loss: 3.1934\n",
      "Epoch 99/100\n",
      "157/157 [==============================] - 21s 133ms/step - total_loss: 9.4216 - reconstruction_loss: 4.7903 - kl_loss: 3.1624\n",
      "Epoch 100/100\n",
      "157/157 [==============================] - 21s 132ms/step - total_loss: 9.3999 - reconstruction_loss: 4.0189 - kl_loss: 3.2558\n"
     ]
    }
   ],
   "source": [
    "history = vae.fit(data,epochs=100,batch_size=64,verbose = 1)\n"
   ]
  },
  {
   "cell_type": "code",
   "execution_count": null,
   "metadata": {},
   "outputs": [],
   "source": [
    "import pandas as pd\n",
    "history_df= pd.DataFrame(history.history)\n",
    "history_df.to_csv(\"300epoch_64_history.csv\")\n",
    "history_df.plot()\n",
    "\n",
    "vae.encoder.save(\"Weights/Encoder_300_64.h5\")\n",
    "vae.decoder.save(\"Wegiths/Decoder_300_64.h5\")\n",
    "vae.encoder.save_weights(\"Weights/ncoder_300_64_weights.h5\")\n",
    "vae.decoder.save_weights(\"Weights/Decode_300_64_weights.h5\")"
   ]
  }
 ],
 "metadata": {
  "kernelspec": {
   "display_name": "stats",
   "language": "python",
   "name": "python3"
  },
  "language_info": {
   "codemirror_mode": {
    "name": "ipython",
    "version": 3
   },
   "file_extension": ".py",
   "mimetype": "text/x-python",
   "name": "python",
   "nbconvert_exporter": "python",
   "pygments_lexer": "ipython3",
   "version": "3.10.0"
  },
  "orig_nbformat": 4
 },
 "nbformat": 4,
 "nbformat_minor": 2
}
